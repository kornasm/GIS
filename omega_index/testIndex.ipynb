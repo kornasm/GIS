{
 "cells": [
  {
   "cell_type": "code",
   "execution_count": 9,
   "metadata": {},
   "outputs": [
    {
     "name": "stdout",
     "output_type": "stream",
     "text": [
      "1.0\n",
      "1.0\n"
     ]
    }
   ],
   "source": [
    "from Omega import Omega\n",
    "\n",
    "communities = {\n",
    "    \"com1\": [\"item1\", \"item2\"],\n",
    "    \"com2\": [\"item3\", \"item4\"],\n",
    "    \"com3\": [\"item5\", \"item6\", \"item9\"],\n",
    "    \"com4\": [\"item7\", \"item8\"],\n",
    "    \"com5\": [\"item9\", \"item10\", \"item4\"],\n",
    "    \"com6\": [\"item11\", \"item12\"],\n",
    "    \"com7\": [\"item13\", \"item14\"]\n",
    "}\n",
    "\n",
    "communities2 = {\n",
    "    \"com7\": [\"item1\", \"item2\"],\n",
    "    \"com6\": [\"item3\", \"item4\"],\n",
    "    \"com5\": [\"item5\", \"item6\", \"item9\"],\n",
    "    \"com4\": [\"item7\", \"item8\"],\n",
    "    \"com3\": [\"item9\", \"item10\", \"item4\"],\n",
    "    \"com2\": [\"item11\", \"item12\"],\n",
    "    \"com1\": [\"item13\", \"item14\"]\n",
    "}\n",
    "\n",
    "\n",
    "om1 = Omega(communities,communities)\n",
    "print(om1.omega_score)\n",
    "\n",
    "\n",
    "om2 = Omega(communities,communities2)\n",
    "print(om2.omega_score)"
   ]
  }
 ],
 "metadata": {
  "interpreter": {
   "hash": "bf50eecdc5490c580c0fd61f284be465a3f76c757ed75f149dad2527d74df822"
  },
  "kernelspec": {
   "display_name": "Python 3.10.3 64-bit",
   "language": "python",
   "name": "python3"
  },
  "language_info": {
   "codemirror_mode": {
    "name": "ipython",
    "version": 3
   },
   "file_extension": ".py",
   "mimetype": "text/x-python",
   "name": "python",
   "nbconvert_exporter": "python",
   "pygments_lexer": "ipython3",
   "version": "3.10.3"
  },
  "orig_nbformat": 4
 },
 "nbformat": 4,
 "nbformat_minor": 2
}
