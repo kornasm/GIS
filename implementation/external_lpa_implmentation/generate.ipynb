{
 "cells": [
  {
   "cell_type": "code",
   "execution_count": 2,
   "id": "d0a16e68",
   "metadata": {},
   "outputs": [],
   "source": [
    "from igraph import *\n",
    "import random\n"
   ]
  },
  {
   "cell_type": "code",
   "execution_count": 9,
   "id": "e5d4aaa1",
   "metadata": {},
   "outputs": [],
   "source": [
    "teams = 10\n",
    "players_per_team = 15\n",
    "min_stayed = 0.7 * players_per_team\n",
    "transfer_windows = 10"
   ]
  },
  {
   "cell_type": "code",
   "execution_count": 8,
   "id": "100954e0",
   "metadata": {},
   "outputs": [],
   "source": [
    "def GenerateFootballGraph(teams, players_per_team, min_stayed, transfer_windows):\n",
    "\n",
    "    #Generate team_labels\n",
    "    team_labels = []\n",
    "    for i in range(0,teams):\n",
    "        lst = [*range(i*players_per_team, (i+1)*players_per_team)]\n",
    "        team_labels.append(lst)\n",
    "\n",
    "    #Generate graph\n",
    "    test_graph = Graph()\n",
    "    test_graph.add_vertices(teams*players_per_team)\n",
    "    for t in range(0,teams):\n",
    "        for i in range(0,players_per_team):\n",
    "            for j in range(i,players_per_team-1):\n",
    "                test_graph.add_edges([(i + t * players_per_team ,j+ 1 + t * players_per_team)])\n",
    "\n",
    "\n",
    "    #Make transfers\n",
    "    for times in range(0,transfer_windows):\n",
    "        for i in range(0,teams-1):\n",
    "            players_chosen = int((len(team_labels[i]) - min_stayed) / 2)\n",
    "            for j in range(0,players_chosen):\n",
    "                player_to_transfer = (team_labels[i][random.randint(0, len(team_labels[i]) - 1)])\n",
    "                team_labels[i].remove(player_to_transfer)\n",
    "                new_team = random.randint(0,teams-1)\n",
    "                if new_team == i:\n",
    "                    new_team += 1\n",
    "                    new_team %= teams\n",
    "                team_labels[new_team].append(player_to_transfer)\n",
    "                for k in team_labels[new_team]:\n",
    "                    test_graph.add_edges([(player_to_transfer,k)])\n",
    "    Graph.simplify(test_graph)\n",
    "    return test_graph"
   ]
  }
 ],
 "metadata": {
  "interpreter": {
   "hash": "bf50eecdc5490c580c0fd61f284be465a3f76c757ed75f149dad2527d74df822"
  },
  "kernelspec": {
   "display_name": "Python 3.10.3 64-bit",
   "language": "python",
   "name": "python3"
  },
  "language_info": {
   "codemirror_mode": {
    "name": "ipython",
    "version": 3
   },
   "file_extension": ".py",
   "mimetype": "text/x-python",
   "name": "python",
   "nbconvert_exporter": "python",
   "pygments_lexer": "ipython3",
   "version": "3.10.3"
  }
 },
 "nbformat": 4,
 "nbformat_minor": 5
}
