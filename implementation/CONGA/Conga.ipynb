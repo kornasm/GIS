{
 "cells": [
  {
   "cell_type": "code",
   "execution_count": 6,
   "id": "4cb2473f",
   "metadata": {},
   "outputs": [],
   "source": [
    "from igraph import *\n",
    "import random\n",
    "import csv"
   ]
  },
  {
   "cell_type": "code",
   "execution_count": 7,
   "id": "78f0e584",
   "metadata": {},
   "outputs": [],
   "source": [
    "g = Graph()\n",
    "\n",
    "g1 = Graph.GRG(100, 0.2)\n",
    "\n",
    "g2 = Graph.Tree(127, 2)"
   ]
  },
  {
   "cell_type": "code",
   "execution_count": 8,
   "id": "9c9e4c1a",
   "metadata": {},
   "outputs": [],
   "source": [
    "teams = 20\n",
    "players_per_team = 20\n",
    "min_stayed = 0.7 * players_per_team\n",
    "transfer_windows = 10"
   ]
  },
  {
   "cell_type": "code",
   "execution_count": 9,
   "id": "fcb1afd3",
   "metadata": {},
   "outputs": [],
   "source": [
    "#Generate team_labels\n",
    "team_labels = []\n",
    "for i in range(0,teams):\n",
    "    lst = [*range(i*players_per_team, (i+1)*players_per_team)]\n",
    "    team_labels.append(lst)\n",
    "    \n",
    "#Generate graph\n",
    "test_graph = Graph()\n",
    "test_graph.add_vertices(teams*players_per_team)\n",
    "for t in range(0,teams):\n",
    "    for i in range(0,players_per_team):\n",
    "        for j in range(i,players_per_team-1):\n",
    "            test_graph.add_edges([(i + t * players_per_team ,j+ 1 + t * players_per_team)])\n",
    "            \n",
    "          \n",
    "#Make transfers\n",
    "for times in range(0,transfer_windows):\n",
    "    for i in range(0,teams-1):\n",
    "        players_chosen = int((len(team_labels[i]) - 14) / 2)\n",
    "        for j in range(0,players_chosen):\n",
    "            player_to_transfer = (team_labels[i][random.randint(0, len(team_labels[i]) - 1)])\n",
    "            team_labels[i].remove(player_to_transfer)\n",
    "            new_team = random.randint(0,teams-1)\n",
    "            if new_team == 1:\n",
    "                new_team += 1\n",
    "                new_team %= teams\n",
    "            team_labels[new_team].append(player_to_transfer)\n",
    "            for k in team_labels[new_team]:\n",
    "                test_graph.add_edges([(player_to_transfer,k)])\n",
    "\n"
   ]
  },
  {
   "cell_type": "code",
   "execution_count": 1,
   "id": "8b62f09c",
   "metadata": {},
   "outputs": [],
   "source": [
    "print(test_graph)"
   ]
  },
  {
   "cell_type": "code",
   "execution_count": 76,
   "id": "c1d26858",
   "metadata": {},
   "outputs": [],
   "source": [
    "def GirvanNewman(graph,result):\n",
    "    while(graph.ecount()>0):\n",
    "        edge_betweenness = graph.edge_betweenness(False, None, None)\n",
    "        max_eb = max(edge_betweenness)\n",
    "        \n",
    "        edgesToDelete = [graph.es[idx].tuple for idx, eb in enumerate(edge_betweenness) if (eb == max_eb and eb == max_eb)]\n",
    "        result.append(edgesToDelete)\n",
    "        graph.delete_edges(edgesToDelete)"
   ]
  },
  {
   "cell_type": "code",
   "execution_count": 2,
   "id": "baf5a426",
   "metadata": {},
   "outputs": [],
   "source": [
    "res = list()\n",
    "GirvanNewman(test_graph,res)\n",
    "res"
   ]
  },
  {
   "cell_type": "code",
   "execution_count": 65,
   "id": "1314c08e",
   "metadata": {},
   "outputs": [],
   "source": [
    "def CONGARandom(g,n):\n",
    "    \n",
    "    iteration=0\n",
    "    new_vertex_counter = g.vcount()\n",
    "    table = [[-1]]*100*g.vcount()\n",
    "    \n",
    "    while(iteration<n and g.ecount() > 0):\n",
    "        edge_betweenness = g.edge_betweenness(False, None, None)\n",
    "        max_eb = max(edge_betweenness)\n",
    "        vertex_betweenness = g.betweenness(None, False, None, None, True)\n",
    "        max_vb = max(vertex_betweenness)\n",
    "\n",
    "        if(max_eb > max_vb):\n",
    "            edgesToDelete = [g.es[idx].tuple for idx, eb in enumerate(edge_betweenness) if (eb <= max_eb+0.1 and eb >= max_eb-0.1)]\n",
    "            g.delete_edges(edgesToDelete)\n",
    "            \n",
    "        else:\n",
    "            vertexToCopy = vertex_betweenness.index(max_vb);\n",
    "            incident = g.incident(vertexToCopy, mode=ALL)\n",
    "            g.add_vertices(str(new_vertex_counter))\n",
    "            table[vertexToCopy].append(new_vertex_counter)\n",
    "            delete_edge_iterator=0\n",
    "            length = len(incident)/2\n",
    "            edges_to_delete = [];\n",
    "            while(delete_edge_iterator < length):\n",
    "                source = g.es[incident[delete_edge_iterator]].source\n",
    "                target = g.es[incident[delete_edge_iterator]].target\n",
    "                if(target == vertexToCopy):\n",
    "                    g.add_edges([(source, new_vertex_counter)])\n",
    "                else:\n",
    "                    g.add_edges([(new_vertex_counter, target)])\n",
    "                edges_to_delete.append(incident[delete_edge_iterator])\n",
    "                delete_edge_iterator+=1\n",
    "            new_vertex_counter+=1\n",
    "            g.delete_edges(edges_to_delete)\n",
    "            incident2 = g.incident(vertexToCopy, mode=ALL)\n",
    "        iteration+=1\n",
    "        print(g.ecount())\n",
    "    return table"
   ]
  },
  {
   "cell_type": "code",
   "execution_count": 3,
   "id": "9c2dff32",
   "metadata": {},
   "outputs": [],
   "source": [
    "tab = CONGARandom(test_graph,10)\n",
    "tab"
   ]
  },
  {
   "cell_type": "code",
   "execution_count": 62,
   "id": "9e04b11f",
   "metadata": {},
   "outputs": [],
   "source": [
    "def CONGARandom1(g,n):\n",
    "    \n",
    "    iteration=0\n",
    "    new_vertex_counter = g.vcount()\n",
    "    table = [[-1]]*100*g.vcount()\n",
    "    \n",
    "    while(iteration<n and g.ecount() > 0):\n",
    "        print(' ')\n",
    "        print(iteration)\n",
    "        edge_betweenness = g.edge_betweenness(directed=False, cutoff=None, weights=None)\n",
    "        max_eb = max(edge_betweenness)\n",
    "        print(max_eb)\n",
    "        vertex_betweenness = g.betweenness(vertices=None, directed=False, cutoff=None, weights=None, nobigint=True)\n",
    "        max_vb = max(vertex_betweenness)\n",
    "        print(max_vb)\n",
    "        if(max_eb > max_vb):\n",
    "            edgesToDelete = [g.es[idx].tuple for idx, eb in enumerate(edge_betweenness) if (eb <= max_eb+0.1 and eb >= max_eb-0.1)]\n",
    "            #print(edgesToDelete)\n",
    "            g.delete_edges(edgesToDelete)\n",
    "        else:\n",
    "            vertexToCopy = vertex_betweenness.index(max_vb);\n",
    "            #print(vertexToCopy)\n",
    "            incident = g.incident(vertexToCopy, mode=ALL)\n",
    "            #print(len(incident))\n",
    "            g.add_vertices(str(new_vertex_counter))\n",
    "            table[vertexToCopy].append(new_vertex_counter)\n",
    "            delete_edge_iterator=0\n",
    "            length = len(incident)/2\n",
    "            #print(incident)\n",
    "            edges_to_delete = [];\n",
    "            while(delete_edge_iterator < length):\n",
    "                #g.delete_edges(incident[delete_edge_iterator])\n",
    "                source = g.es[incident[delete_edge_iterator]].source\n",
    "                target = g.es[incident[delete_edge_iterator]].target\n",
    "                #print([source, target])\n",
    "                if(target == vertexToCopy):\n",
    "                    #print([(source, new_vertex_counter)])\n",
    "                    g.add_edges([(source, new_vertex_counter)])\n",
    "                else:\n",
    "                    #print([(new_vertex_counter, target)])\n",
    "                    g.add_edges([(new_vertex_counter, target)])\n",
    "                edges_to_delete.append(incident[delete_edge_iterator])\n",
    "                delete_edge_iterator+=1\n",
    "            new_vertex_counter+=1\n",
    "            #print(edges_to_delete)\n",
    "            g.delete_edges(edges_to_delete)\n",
    "            incident2 = g.incident(vertexToCopy, mode=ALL)\n",
    "            #print(len(incident2))\n",
    "            #print(incident2)\n",
    "        iteration+=1\n",
    "        #print(table)\n",
    "        print(g.ecount())\n",
    "        #print(g.vcount())\n",
    "    return table"
   ]
  },
  {
   "cell_type": "code",
   "execution_count": 4,
   "id": "51dd9aa1",
   "metadata": {},
   "outputs": [],
   "source": [
    "tab = CONGARandom1(test_graph,5)\n",
    "tab"
   ]
  },
  {
   "cell_type": "code",
   "execution_count": 4,
   "id": "d2ac4d43",
   "metadata": {},
   "outputs": [
    {
     "name": "stdout",
     "output_type": "stream",
     "text": [
      "reading from file\n",
      "edges setup\n",
      "edgevertices\n",
      "vertices\n",
      "inverse_indicies\n",
      "no vertices   3701\n",
      "setting colors\n",
      "adding edges\n",
      "graph created\n"
     ]
    }
   ],
   "source": [
    "import csv\n",
    "import collections\n",
    "import random\n",
    "from igraph import *\n",
    "\n",
    "edgesFilename = \"../../scrapers/La-Liga-StatsEdges.csv\"\n",
    "#edgesFilename = \"genedges\"\n",
    "\n",
    "def delete_comments(csvfile):\n",
    "    for row in csvfile:\n",
    "        raw = row.split('#')[0].strip()\n",
    "        if raw:\n",
    "            yield raw\n",
    "\n",
    "def read_graph( edges_file):\n",
    "    print('reading from file')\n",
    "    players = []\n",
    "    edges = []\n",
    "   \n",
    "\n",
    "    with open(edges_file , 'r') as csvfile:\n",
    "        csvreader = csv.reader(delete_comments(csvfile), delimiter=',')\n",
    "        edges = list(csvreader)\n",
    "\n",
    "    print('edges setup')\n",
    "    edgevertices = list([edge[0] for edge in edges] + [edge[1] for edge in edges])\n",
    "\n",
    "    print('edgevertices')\n",
    "    edgevertices = list(dict.fromkeys(edgevertices))\n",
    "\n",
    "    print('vertices')\n",
    "    #vertices = list([player for player in players if player[0] in edgevertices])\n",
    "\n",
    "    \n",
    "    print('inverse_indicies')\n",
    "    inverse_indicies = dict(zip(edgevertices, range(len(edgevertices))))\n",
    "\n",
    "    g = Graph()\n",
    "\n",
    "    g.add_vertices(len(edgevertices))\n",
    "    print('no vertices   ' + str(len(edgevertices)))\n",
    "    g.vs[\"id\"] = [vertex for vertex in edgevertices]\n",
    "    g.vs[\"label\"] = g.vs[\"id\"]\n",
    "    g.vs[\"vertex_size\"] = 8\n",
    "    g.vs[\"newlpalabel\"] = 0\n",
    "    g.es[\"weight\"] = 2\n",
    "    g.vs[\"vertex_color\"] = 0\n",
    "\n",
    "    print(\"setting colors\")\n",
    "    for vert in g.vs:\n",
    "        vert[\"vertex_color\"] = f'rgb({random.randint(0, 255)}, {random.randint(0, 255)}, {random.randint(0, 255)})'\n",
    "    g.vs[\"lpalabel\"] = list(zip(range(len(edgevertices)), g.vs[\"vertex_color\"]))\n",
    "\n",
    "    print(\"adding edges\")\n",
    "    try:\n",
    "        for edge in edges:\n",
    "            #print(str(edge[0]) + \" \" + str(edge[1]))\n",
    "            #edge1 = edge[0]\n",
    "            #edge2 = edge[1]\n",
    "            #i = i + 1\n",
    "            g.add_edge(inverse_indicies[edge[0]], inverse_indicies[edge[1]])\n",
    "    except:\n",
    "        print(\"Error occured during graph creating\")\n",
    "        quit()\n",
    "\n",
    "    g.es[\"weigth\"] = 1\n",
    "    print(\"graph created\")\n",
    "    return g\n",
    "\n",
    "def create_dictionary(vertices):\n",
    "    dictionary = dict(zip(vertices, range(len(vertices))))\n",
    "    return dictionary\n",
    "\n",
    "g = read_graph(edgesFilename)"
   ]
  },
  {
   "cell_type": "code",
   "execution_count": null,
   "id": "78c27bf6",
   "metadata": {},
   "outputs": [
    {
     "data": {
      "text/plain": [
       "<igraph.Graph at 0x242aa8818a0>"
      ]
     },
     "execution_count": 29,
     "metadata": {},
     "output_type": "execute_result"
    }
   ],
   "source": [
    "import igraph\n",
    "igraph.Graph.simplify(g)\n",
    "g"
   ]
  },
  {
   "cell_type": "code",
   "execution_count": 5,
   "id": "c8076eca",
   "metadata": {},
   "outputs": [],
   "source": [
    "tab = GirvanNewman(g,tab)"
   ]
  },
  {
   "cell_type": "code",
   "execution_count": 6,
   "id": "75192f3b",
   "metadata": {},
   "outputs": [],
   "source": [
    "tab"
   ]
  }
 ],
 "metadata": {
  "interpreter": {
   "hash": "916dbcbb3f70747c44a77c7bcd40155683ae19c65e1c03b4aa3499c5328201f1"
  },
  "kernelspec": {
   "display_name": "Python 3.8.10 64-bit",
   "language": "python",
   "name": "python3"
  },
  "language_info": {
   "codemirror_mode": {
    "name": "ipython",
    "version": 3
   },
   "file_extension": ".py",
   "mimetype": "text/x-python",
   "name": "python",
   "nbconvert_exporter": "python",
   "pygments_lexer": "ipython3",
   "version": "3.8.10"
  }
 },
 "nbformat": 4,
 "nbformat_minor": 5
}
