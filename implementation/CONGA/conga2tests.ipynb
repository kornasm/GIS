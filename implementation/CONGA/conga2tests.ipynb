{
 "cells": [
  {
   "cell_type": "code",
   "execution_count": 13,
   "metadata": {},
   "outputs": [],
   "source": [
    "from conga2 import *\n",
    "import numpy as np\n",
    "import collections as co\n",
    "\n",
    "from igraph import *\n",
    "import operator\n",
    "import itertools\n",
    "import argparse\n",
    "\n",
    "import random"
   ]
  },
  {
   "cell_type": "code",
   "execution_count": 30,
   "metadata": {},
   "outputs": [],
   "source": [
    "teams = 10\n",
    "players_per_team = 10\n",
    "min_stayed = 0.7 * players_per_team\n",
    "transfer_windows = 10"
   ]
  },
  {
   "cell_type": "code",
   "execution_count": 31,
   "metadata": {},
   "outputs": [],
   "source": [
    "def GenerateFootballGraph(teams, players_per_team, min_stayed, transfer_windows):\n",
    "\n",
    "    #Generate team_labels\n",
    "    team_labels = []\n",
    "    for i in range(0,teams):\n",
    "        lst = [*range(i*players_per_team, (i+1)*players_per_team)]\n",
    "        team_labels.append(lst)\n",
    "\n",
    "    #Generate graph\n",
    "    test_graph = Graph()\n",
    "    test_graph.add_vertices(teams*players_per_team)\n",
    "    for t in range(0,teams):\n",
    "        for i in range(0,players_per_team):\n",
    "            for j in range(i,players_per_team-1):\n",
    "                test_graph.add_edges([(i + t * players_per_team ,j+ 1 + t * players_per_team)])\n",
    "\n",
    "\n",
    "    #Make transfers\n",
    "    for times in range(0,transfer_windows):\n",
    "        for i in range(0,teams-1):\n",
    "            players_chosen = int((len(team_labels[i]) - min_stayed) / 2)\n",
    "            for j in range(0,players_chosen):\n",
    "                player_to_transfer = (team_labels[i][random.randint(0, len(team_labels[i]) - 1)])\n",
    "                team_labels[i].remove(player_to_transfer)\n",
    "                new_team = random.randint(0,teams-1)\n",
    "                if new_team == i:\n",
    "                    new_team += 1\n",
    "                    new_team %= teams\n",
    "                team_labels[new_team].append(player_to_transfer)\n",
    "                for k in team_labels[new_team]:\n",
    "                    test_graph.add_edges([(player_to_transfer,k)])\n",
    "    #Graph.simplify(test_graph)\n",
    "    return test_graph"
   ]
  },
  {
   "cell_type": "code",
   "execution_count": 1,
   "metadata": {},
   "outputs": [],
   "source": [
    "g = GenerateFootballGraph(teams, players_per_team, min_stayed, transfer_windows)\n",
    "len(g.components())\n",
    "print(g)"
   ]
  },
  {
   "cell_type": "code",
   "execution_count": 33,
   "metadata": {},
   "outputs": [],
   "source": [
    "result = conga(g,optimal_count=5)"
   ]
  },
  {
   "cell_type": "code",
   "execution_count": 2,
   "metadata": {},
   "outputs": [],
   "source": [
    "result.pretty_print_cover(result.optimal_count, label=\"CONGA_index\")\n"
   ]
  },
  {
   "cell_type": "code",
   "execution_count": 4,
   "metadata": {},
   "outputs": [],
   "source": [
    "from time import sleep\n",
    "from typing import Counter\n",
    "from igraph import *\n",
    "import igraph as ig\n",
    "import csv\n",
    "import collections\n",
    "import random\n",
    "\n",
    "def delete_comments(csvfile):\n",
    "    for row in csvfile:\n",
    "        raw = row.split('#')[0].strip()\n",
    "        if raw:\n",
    "            yield raw\n",
    "\n",
    "def read_graph( edges_file):\n",
    "    print('reading from file')\n",
    "    edges = []\n",
    "   \n",
    "\n",
    "    with open(edges_file , 'r') as csvfile:\n",
    "        csvreader = csv.reader(delete_comments(csvfile), delimiter=',')\n",
    "        edges = list(csvreader)\n",
    "\n",
    "    print('edges setup')\n",
    "    edgevertices = list([edge[0] for edge in edges] + [edge[1] for edge in edges])\n",
    "\n",
    "    print('edgevertices')\n",
    "    edgevertices = list(dict.fromkeys(edgevertices))\n",
    "  \n",
    "    print('inverse_indicies')\n",
    "    inverse_indicies = dict(zip(edgevertices, range(len(edgevertices))))\n",
    "\n",
    "    g = Graph()\n",
    "\n",
    "    g.add_vertices(len(edgevertices))\n",
    "    print('no vertices   ' + str(len(edgevertices)))\n",
    "    g.vs[\"id\"] = [vertex for vertex in edgevertices]\n",
    "    g.vs[\"label\"] = g.vs[\"id\"]\n",
    "    g.vs[\"vertex_size\"] = 8\n",
    "    g.vs[\"newlpalabel\"] = 0\n",
    "    g.es[\"weight\"] = 2\n",
    "    g.vs[\"vertex_color\"] = 0\n",
    "\n",
    "    for vert in g.vs:\n",
    "        vert[\"vertex_color\"] = f'rgb({random.randint(0, 255)}, {random.randint(0, 255)}, {random.randint(0, 255)})'\n",
    "    g.vs[\"lpalabel\"] = list(zip(range(len(edgevertices)), g.vs[\"vertex_color\"]))\n",
    "\n",
    "    print(\"adding edges\")\n",
    "    try:\n",
    "        for edge in edges:\n",
    "            g.add_edge(inverse_indicies[edge[0]], inverse_indicies[edge[1]])\n",
    "    except:\n",
    "        print(\"Error occured during graph creating\")\n",
    "        quit()\n",
    "\n",
    "    g.es[\"weigth\"] = 1\n",
    "    print(\"graph created\")\n",
    "    return g"
   ]
  },
  {
   "cell_type": "code",
   "execution_count": 5,
   "metadata": {},
   "outputs": [
    {
     "name": "stdout",
     "output_type": "stream",
     "text": [
      "reading from file\n",
      "edges setup\n",
      "edgevertices\n",
      "inverse_indicies\n",
      "no vertices   585\n",
      "adding edges\n",
      "graph created\n"
     ]
    }
   ],
   "source": [
    "swiss = read_graph(\"..\\scrapers\\Swiss-Super-League-StatsEdges.csv\")"
   ]
  },
  {
   "cell_type": "code",
   "execution_count": 14,
   "metadata": {},
   "outputs": [],
   "source": [
    "Graph.simplify(swiss)\n",
    "SwissLeague = conga(swiss,optimal_count=10)"
   ]
  },
  {
   "cell_type": "code",
   "execution_count": 3,
   "metadata": {},
   "outputs": [
    {
     "data": {
      "text/plain": [
       "'\\ncover = SwissLeague._covers[10]\\n\\nlist_communities = []\\nfor i in range(0, 10):\\n    list_communities.append(cover._clusters[i])\\n\\nprint(list_communities)\\nlen(list_communities)\\n'"
      ]
     },
     "execution_count": 3,
     "metadata": {},
     "output_type": "execute_result"
    }
   ],
   "source": [
    "#SwissLeague.pretty_print_cover(SwissLeague.optimal_count, label=\"CONGA_index\")\n",
    "\n",
    "cover = SwissLeague._covers[10]\n",
    "\n",
    "list_communities = []\n",
    "for i in range(0, 10):\n",
    "    list_communities.append(cover._clusters[i])\n",
    "\n",
    "print(list_communities)\n",
    "len(list_communities)"
   ]
  },
  {
   "cell_type": "code",
   "execution_count": 4,
   "metadata": {},
   "outputs": [],
   "source": [
    "croatia = read_graph(\"..\\scrapers\\cr-StatsEdges.csv\")\n",
    "Graph.simplify(croatia)\n",
    "print(croatia)"
   ]
  },
  {
   "cell_type": "code",
   "execution_count": 43,
   "metadata": {},
   "outputs": [],
   "source": [
    "Graph.simplify(croatia)\n",
    "CroatiaLeague = conga(croatia,optimal_count=10)"
   ]
  },
  {
   "cell_type": "code",
   "execution_count": 5,
   "metadata": {},
   "outputs": [],
   "source": [
    "cover = CroatiaLeague._covers[10]\n",
    "\n",
    "list_communities = []\n",
    "for i in range(0, 10):\n",
    "    list_communities.append(cover._clusters[i])\n",
    "\n",
    "#print(list_communities)\n",
    "#len(list_communities)\n",
    "SwissLeague.pretty_print_cover(SwissLeague.optimal_count, label=\"CONGA_index\")"
   ]
  }
 ],
 "metadata": {
  "interpreter": {
   "hash": "916dbcbb3f70747c44a77c7bcd40155683ae19c65e1c03b4aa3499c5328201f1"
  },
  "kernelspec": {
   "display_name": "Python 3.8.10 64-bit",
   "language": "python",
   "name": "python3"
  },
  "language_info": {
   "codemirror_mode": {
    "name": "ipython",
    "version": 3
   },
   "file_extension": ".py",
   "mimetype": "text/x-python",
   "name": "python",
   "nbconvert_exporter": "python",
   "pygments_lexer": "ipython3",
   "version": "3.8.10"
  },
  "orig_nbformat": 4
 },
 "nbformat": 4,
 "nbformat_minor": 2
}
